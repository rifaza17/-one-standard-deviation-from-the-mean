{
 "cells": [
  {
   "cell_type": "code",
   "execution_count": 5,
   "metadata": {},
   "outputs": [],
   "source": [
    "import pandas as pd\n",
    "df =  pd.read_csv('https://sololearn.com/uploads/files/titanic.csv')\n"
   ]
  },
  {
   "cell_type": "code",
   "execution_count": 6,
   "metadata": {},
   "outputs": [
    {
     "data": {
      "text/html": [
       "<div>\n",
       "<style scoped>\n",
       "    .dataframe tbody tr th:only-of-type {\n",
       "        vertical-align: middle;\n",
       "    }\n",
       "\n",
       "    .dataframe tbody tr th {\n",
       "        vertical-align: top;\n",
       "    }\n",
       "\n",
       "    .dataframe thead th {\n",
       "        text-align: right;\n",
       "    }\n",
       "</style>\n",
       "<table border=\"1\" class=\"dataframe\">\n",
       "  <thead>\n",
       "    <tr style=\"text-align: right;\">\n",
       "      <th></th>\n",
       "      <th>Survived</th>\n",
       "      <th>Pclass</th>\n",
       "      <th>Sex</th>\n",
       "      <th>Age</th>\n",
       "      <th>Siblings/Spouses</th>\n",
       "      <th>Parents/Children</th>\n",
       "      <th>Fare</th>\n",
       "    </tr>\n",
       "  </thead>\n",
       "  <tbody>\n",
       "    <tr>\n",
       "      <th>0</th>\n",
       "      <td>0</td>\n",
       "      <td>3</td>\n",
       "      <td>male</td>\n",
       "      <td>22.0</td>\n",
       "      <td>1</td>\n",
       "      <td>0</td>\n",
       "      <td>7.2500</td>\n",
       "    </tr>\n",
       "    <tr>\n",
       "      <th>1</th>\n",
       "      <td>1</td>\n",
       "      <td>1</td>\n",
       "      <td>female</td>\n",
       "      <td>38.0</td>\n",
       "      <td>1</td>\n",
       "      <td>0</td>\n",
       "      <td>71.2833</td>\n",
       "    </tr>\n",
       "    <tr>\n",
       "      <th>2</th>\n",
       "      <td>1</td>\n",
       "      <td>3</td>\n",
       "      <td>female</td>\n",
       "      <td>26.0</td>\n",
       "      <td>0</td>\n",
       "      <td>0</td>\n",
       "      <td>7.9250</td>\n",
       "    </tr>\n",
       "    <tr>\n",
       "      <th>3</th>\n",
       "      <td>1</td>\n",
       "      <td>1</td>\n",
       "      <td>female</td>\n",
       "      <td>35.0</td>\n",
       "      <td>1</td>\n",
       "      <td>0</td>\n",
       "      <td>53.1000</td>\n",
       "    </tr>\n",
       "    <tr>\n",
       "      <th>4</th>\n",
       "      <td>0</td>\n",
       "      <td>3</td>\n",
       "      <td>male</td>\n",
       "      <td>35.0</td>\n",
       "      <td>0</td>\n",
       "      <td>0</td>\n",
       "      <td>8.0500</td>\n",
       "    </tr>\n",
       "  </tbody>\n",
       "</table>\n",
       "</div>"
      ],
      "text/plain": [
       "   Survived  Pclass     Sex   Age  Siblings/Spouses  Parents/Children     Fare\n",
       "0         0       3    male  22.0                 1                 0   7.2500\n",
       "1         1       1  female  38.0                 1                 0  71.2833\n",
       "2         1       3  female  26.0                 0                 0   7.9250\n",
       "3         1       1  female  35.0                 1                 0  53.1000\n",
       "4         0       3    male  35.0                 0                 0   8.0500"
      ]
     },
     "execution_count": 6,
     "metadata": {},
     "output_type": "execute_result"
    }
   ],
   "source": [
    "df.head()"
   ]
  },
  {
   "cell_type": "code",
   "execution_count": null,
   "metadata": {},
   "outputs": [],
   "source": [
    "#Converting from a Pandas DataFrame to a Numpy Array"
   ]
  },
  {
   "cell_type": "code",
   "execution_count": 7,
   "metadata": {},
   "outputs": [
    {
     "name": "stdout",
     "output_type": "stream",
     "text": [
      "[[ 3.      7.25   22.    ]\n",
      " [ 1.     71.2833 38.    ]\n",
      " [ 3.      7.925  26.    ]\n",
      " ...\n",
      " [ 3.     23.45    7.    ]\n",
      " [ 1.     30.     26.    ]\n",
      " [ 3.      7.75   32.    ]]\n"
     ]
    }
   ],
   "source": [
    "print(df[['Pclass', 'Fare','Age']].values)"
   ]
  },
  {
   "cell_type": "code",
   "execution_count": null,
   "metadata": {},
   "outputs": [],
   "source": [
    "##Numpy Shape Attribute"
   ]
  },
  {
   "cell_type": "code",
   "execution_count": 8,
   "metadata": {},
   "outputs": [],
   "source": [
    "arr = df[['Pclass', 'Fare', 'Age']].values"
   ]
  },
  {
   "cell_type": "code",
   "execution_count": 9,
   "metadata": {},
   "outputs": [
    {
     "name": "stdout",
     "output_type": "stream",
     "text": [
      "(887, 3)\n"
     ]
    }
   ],
   "source": [
    "print(arr.shape) #(887, 3)"
   ]
  },
  {
   "cell_type": "code",
   "execution_count": null,
   "metadata": {},
   "outputs": [],
   "source": [
    "#Masking\n",
    "to get the age column\n",
    "arr[:, 2]"
   ]
  },
  {
   "cell_type": "code",
   "execution_count": 10,
   "metadata": {},
   "outputs": [],
   "source": [
    "mask = arr[:, 2] < 18\n",
    "#We create what we call a mask first. This is an array of boolean values (True/False) of whether the passenger is a child or not."
   ]
  },
  {
   "cell_type": "code",
   "execution_count": 11,
   "metadata": {},
   "outputs": [
    {
     "data": {
      "text/plain": [
       "array([False, False, False, False, False, False, False,  True, False,\n",
       "        True,  True, False, False, False,  True, False,  True, False,\n",
       "       False, False, False, False,  True, False,  True, False, False,\n",
       "       False, False, False, False, False, False, False, False, False,\n",
       "       False, False, False,  True, False, False,  True, False, False,\n",
       "       False, False,  True, False,  True, False, False, False, False,\n",
       "       False, False, False,  True,  True, False, False, False,  True,\n",
       "       False,  True, False, False,  True, False, False,  True, False,\n",
       "       False, False, False, False, False,  True, False, False, False,\n",
       "       False, False,  True, False,  True, False, False, False, False,\n",
       "       False, False, False, False, False, False, False, False, False,\n",
       "       False, False, False, False, False, False, False, False, False,\n",
       "       False, False,  True, False, False,  True, False, False, False,\n",
       "       False,  True, False, False, False, False, False,  True, False,\n",
       "       False,  True, False, False, False, False, False, False, False,\n",
       "       False, False,  True, False, False, False, False, False, False,\n",
       "       False, False,  True, False, False, False, False, False, False,\n",
       "       False, False,  True, False, False,  True, False, False, False,\n",
       "        True,  True,  True, False, False, False, False, False,  True,\n",
       "        True, False, False, False,  True, False, False, False,  True,\n",
       "       False,  True,  True,  True, False, False, False, False, False,\n",
       "       False, False, False,  True, False, False, False, False, False,\n",
       "       False, False,  True, False, False, False,  True, False, False,\n",
       "        True, False, False, False, False, False, False, False, False,\n",
       "       False, False, False,  True, False, False, False, False, False,\n",
       "       False, False, False,  True, False, False, False,  True, False,\n",
       "       False, False,  True, False, False, False, False, False, False,\n",
       "       False, False, False, False, False, False, False, False, False,\n",
       "       False, False, False, False, False, False, False,  True, False,\n",
       "       False, False, False,  True, False, False, False, False, False,\n",
       "       False, False, False, False, False, False,  True, False, False,\n",
       "       False,  True, False, False, False, False, False, False, False,\n",
       "       False, False, False, False, False, False, False,  True, False,\n",
       "       False, False, False, False, False, False,  True, False,  True,\n",
       "       False, False, False, False, False, False, False, False, False,\n",
       "       False, False, False, False, False, False, False, False, False,\n",
       "       False, False, False,  True, False, False, False,  True, False,\n",
       "       False, False, False, False, False,  True, False, False, False,\n",
       "       False, False, False, False,  True, False, False, False,  True,\n",
       "       False, False, False, False, False, False, False, False, False,\n",
       "       False, False, False, False, False, False, False, False, False,\n",
       "       False, False, False,  True, False, False, False, False, False,\n",
       "       False,  True, False, False, False, False,  True, False, False,\n",
       "        True, False, False, False, False, False, False, False, False,\n",
       "       False, False, False, False, False, False, False, False, False,\n",
       "        True, False,  True, False, False, False, False, False, False,\n",
       "       False, False, False,  True, False, False, False, False, False,\n",
       "       False, False, False, False, False, False, False,  True, False,\n",
       "        True, False, False, False, False, False, False, False, False,\n",
       "       False,  True,  True, False,  True, False, False, False, False,\n",
       "       False, False, False, False, False, False,  True, False, False,\n",
       "       False, False, False, False, False, False, False,  True, False,\n",
       "       False, False, False, False, False, False, False, False,  True,\n",
       "        True, False, False, False, False,  True, False, False, False,\n",
       "        True, False, False, False, False, False, False, False, False,\n",
       "       False, False,  True, False, False, False,  True, False, False,\n",
       "       False, False, False, False, False, False, False, False, False,\n",
       "       False, False, False, False, False, False, False, False, False,\n",
       "       False, False, False, False, False,  True,  True,  True, False,\n",
       "       False,  True, False, False, False, False, False,  True,  True,\n",
       "       False, False, False, False, False, False,  True,  True, False,\n",
       "       False, False, False, False, False, False, False, False, False,\n",
       "       False, False, False, False, False, False, False, False, False,\n",
       "       False, False, False, False,  True, False, False, False, False,\n",
       "       False, False, False, False, False,  True, False, False, False,\n",
       "       False, False, False, False, False, False, False, False, False,\n",
       "       False, False, False, False, False, False, False, False, False,\n",
       "       False, False, False, False, False, False, False, False, False,\n",
       "       False, False, False,  True, False, False, False, False, False,\n",
       "       False, False, False, False, False, False, False, False, False,\n",
       "       False,  True, False, False, False, False, False, False, False,\n",
       "        True, False,  True, False, False, False, False, False, False,\n",
       "       False, False,  True, False, False, False, False, False, False,\n",
       "       False, False, False, False, False, False, False, False, False,\n",
       "       False, False, False, False, False, False, False, False, False,\n",
       "       False, False, False, False, False,  True, False, False,  True,\n",
       "       False, False,  True, False,  True, False, False, False, False,\n",
       "       False, False, False, False, False, False, False, False, False,\n",
       "       False, False, False, False,  True, False, False, False, False,\n",
       "       False, False, False, False, False,  True,  True, False, False,\n",
       "       False, False, False, False, False, False, False,  True, False,\n",
       "       False, False, False, False, False, False, False, False, False,\n",
       "       False, False, False, False,  True, False, False, False,  True,\n",
       "        True, False, False, False,  True, False, False, False, False,\n",
       "       False, False, False, False,  True, False, False, False, False,\n",
       "       False, False, False, False, False, False, False, False,  True,\n",
       "       False, False,  True,  True, False, False, False, False, False,\n",
       "        True,  True, False, False,  True, False, False, False, False,\n",
       "       False, False, False, False, False, False,  True,  True, False,\n",
       "       False, False, False, False, False, False, False, False,  True,\n",
       "       False, False, False, False, False,  True, False, False, False,\n",
       "       False,  True, False, False,  True, False, False,  True,  True,\n",
       "       False, False, False, False, False, False, False, False, False,\n",
       "        True, False, False,  True, False, False, False, False, False,\n",
       "        True, False,  True,  True, False, False, False, False, False,\n",
       "       False, False, False, False,  True, False, False, False, False,\n",
       "       False,  True, False, False, False, False, False,  True, False,\n",
       "       False, False, False, False, False, False, False, False, False,\n",
       "       False, False,  True, False, False])"
      ]
     },
     "execution_count": 11,
     "metadata": {},
     "output_type": "execute_result"
    }
   ],
   "source": [
    "mask"
   ]
  },
  {
   "cell_type": "code",
   "execution_count": 12,
   "metadata": {},
   "outputs": [
    {
     "data": {
      "text/plain": [
       "array([[  3.    ,  21.075 ,   2.    ],\n",
       "       [  2.    ,  30.0708,  14.    ],\n",
       "       [  3.    ,  16.7   ,   4.    ],\n",
       "       [  3.    ,   7.8542,  14.    ],\n",
       "       [  3.    ,  29.125 ,   2.    ],\n",
       "       [  3.    ,   8.0292,  15.    ],\n",
       "       [  3.    ,  21.075 ,   8.    ],\n",
       "       [  3.    ,  11.2417,  14.    ],\n",
       "       [  2.    ,  41.5792,   3.    ],\n",
       "       [  3.    ,  21.6792,  16.    ],\n",
       "       [  3.    ,  39.6875,   7.    ],\n",
       "       [  2.    ,  27.75  ,   5.    ],\n",
       "       [  3.    ,  46.9   ,  11.    ],\n",
       "       [  3.    ,  27.9   ,   4.    ],\n",
       "       [  3.    ,  15.2458,   7.    ],\n",
       "       [  3.    ,   7.925 ,  17.    ],\n",
       "       [  3.    ,  46.9   ,  16.    ],\n",
       "       [  2.    ,  29.    ,   0.83  ],\n",
       "       [  2.    ,  10.5   ,  17.    ],\n",
       "       [  3.    ,  34.375 ,  16.    ],\n",
       "       [  3.    ,  14.4542,  14.5   ],\n",
       "       [  3.    ,  14.4583,  17.    ],\n",
       "       [  3.    ,  31.275 ,   2.    ],\n",
       "       [  3.    ,  11.2417,  12.    ],\n",
       "       [  3.    ,  22.3583,   2.    ],\n",
       "       [  3.    ,   9.2167,  16.    ],\n",
       "       [  3.    ,  34.375 ,   9.    ],\n",
       "       [  3.    ,   7.7333,  16.    ],\n",
       "       [  3.    ,  69.55  ,   5.    ],\n",
       "       [  3.    ,   8.6625,  17.    ],\n",
       "       [  3.    ,  39.6875,   1.    ],\n",
       "       [  3.    ,  20.525 ,   9.    ],\n",
       "       [  3.    ,  29.125 ,   4.    ],\n",
       "       [  3.    ,  11.1333,   1.    ],\n",
       "       [  3.    ,  25.4667,   5.    ],\n",
       "       [  3.    ,  69.55  ,   8.    ],\n",
       "       [  3.    ,  31.3875,   9.    ],\n",
       "       [  2.    ,  39.    ,   1.    ],\n",
       "       [  3.    ,  22.025 ,   4.    ],\n",
       "       [  2.    ,  26.    ,   3.    ],\n",
       "       [  3.    ,  69.55  ,  17.    ],\n",
       "       [  3.    ,  10.4625,   2.    ],\n",
       "       [  3.    ,   7.75  ,  16.    ],\n",
       "       [  3.    ,   8.05  ,  16.    ],\n",
       "       [  3.    ,  25.4667,  12.    ],\n",
       "       [  3.    ,  31.3875,   5.    ],\n",
       "       [  2.    ,  26.25  ,   8.    ],\n",
       "       [  3.    ,  31.3875,   3.    ],\n",
       "       [  3.    ,  39.6875,  16.    ],\n",
       "       [  3.    ,  29.125 ,   7.    ],\n",
       "       [  3.    ,   9.5   ,  16.    ],\n",
       "       [  1.    , 151.55  ,   2.    ],\n",
       "       [  1.    , 151.55  ,   0.92  ],\n",
       "       [  1.    , 108.9   ,  17.    ],\n",
       "       [  1.    ,  57.9792,  16.    ],\n",
       "       [  3.    ,  18.    ,  16.    ],\n",
       "       [  2.    ,  26.    ,   2.    ],\n",
       "       [  3.    ,  15.9   ,   3.    ],\n",
       "       [  3.    ,   7.2292,  15.    ],\n",
       "       [  3.    ,  21.075 ,   3.    ],\n",
       "       [  3.    ,  15.7417,   1.    ],\n",
       "       [  3.    ,  46.9   ,   1.    ],\n",
       "       [  2.    ,  12.    ,  17.    ],\n",
       "       [  2.    ,  18.75  ,   3.    ],\n",
       "       [  3.    ,  25.4667,   3.    ],\n",
       "       [  3.    ,  24.15  ,  10.    ],\n",
       "       [  3.    ,   7.125 ,  17.    ],\n",
       "       [  1.    , 120.    ,  14.    ],\n",
       "       [  1.    ,  81.8583,   4.    ],\n",
       "       [  2.    ,  19.5   ,  13.    ],\n",
       "       [  3.    ,  19.2583,   5.    ],\n",
       "       [  3.    ,   7.75  ,  17.    ],\n",
       "       [  3.    ,  19.2583,   0.75  ],\n",
       "       [  3.    ,  12.2875,   2.    ],\n",
       "       [  3.    ,  46.9   ,   9.    ],\n",
       "       [  3.    ,  25.4667,   8.    ],\n",
       "       [  3.    ,  15.9   ,   9.    ],\n",
       "       [  3.    ,   8.6625,  17.    ],\n",
       "       [  1.    ,  86.5   ,  16.    ],\n",
       "       [  2.    ,  26.    ,   2.    ],\n",
       "       [  3.    ,   7.2292,  17.    ],\n",
       "       [  3.    ,   7.2292,  17.    ],\n",
       "       [  2.    ,  26.25  ,   7.    ],\n",
       "       [  3.    ,  31.275 ,   9.    ],\n",
       "       [  3.    ,  31.275 ,  11.    ],\n",
       "       [  2.    ,  36.75  ,   8.    ],\n",
       "       [  1.    , 110.8833,  17.    ],\n",
       "       [  3.    ,   8.05  ,  16.    ],\n",
       "       [  3.    ,   8.7125,  16.    ],\n",
       "       [  2.    ,  39.    ,   4.    ],\n",
       "       [  3.    ,  27.9   ,   9.    ],\n",
       "       [  3.    ,  27.9   ,   2.    ],\n",
       "       [  3.    ,  19.2583,   0.75  ],\n",
       "       [  3.    ,   7.8292,  16.    ],\n",
       "       [  3.    ,  46.9   ,  14.    ],\n",
       "       [  3.    ,  39.6875,  14.    ],\n",
       "       [  1.    , 211.3375,  15.    ],\n",
       "       [  3.    ,  13.4167,   4.    ],\n",
       "       [  3.    ,  15.2458,   4.    ],\n",
       "       [  2.    ,  33.    ,   6.    ],\n",
       "       [  3.    ,   7.0542,  17.    ],\n",
       "       [  3.    ,  18.7875,  11.    ],\n",
       "       [  3.    ,  20.25  ,  16.    ],\n",
       "       [  2.    ,  23.    ,   4.    ],\n",
       "       [  3.    ,  12.475 ,   6.    ],\n",
       "       [  2.    ,  14.5   ,   0.67  ],\n",
       "       [  3.    ,   7.775 ,  16.    ],\n",
       "       [  3.    ,  12.475 ,   5.    ],\n",
       "       [  3.    ,   7.2292,  13.    ],\n",
       "       [  1.    ,  57.    ,  17.    ],\n",
       "       [  3.    ,  29.125 ,   8.    ],\n",
       "       [  3.    ,  20.575 ,   1.    ],\n",
       "       [  2.    ,  26.    ,  16.    ],\n",
       "       [  1.    , 120.    ,  11.    ],\n",
       "       [  3.    ,   8.5167,   0.42  ],\n",
       "       [  3.    ,  31.275 ,   6.    ],\n",
       "       [  3.    ,  27.9   ,  10.    ],\n",
       "       [  3.    ,  39.6875,   2.    ],\n",
       "       [  2.    ,  37.0042,   1.    ],\n",
       "       [  3.    ,  14.4542,  15.    ],\n",
       "       [  2.    ,  18.75  ,   0.83  ],\n",
       "       [  2.    ,  10.5   ,  16.    ],\n",
       "       [  3.    ,   8.6625,  17.    ],\n",
       "       [  3.    ,  31.275 ,   4.    ],\n",
       "       [  3.    ,  15.2458,   9.    ],\n",
       "       [  1.    ,  39.4   ,  16.    ],\n",
       "       [  3.    ,  69.55  ,  14.    ],\n",
       "       [  3.    ,  11.1333,   4.    ],\n",
       "       [  3.    ,   7.225 ,  15.    ],\n",
       "       [  3.    ,  23.45  ,   7.    ]])"
      ]
     },
     "execution_count": 12,
     "metadata": {},
     "output_type": "execute_result"
    }
   ],
   "source": [
    "arr[mask]"
   ]
  },
  {
   "cell_type": "code",
   "execution_count": null,
   "metadata": {},
   "outputs": [],
   "source": [
    "#Generally, we don't need to define the mask variable and can do the above in just a single line:"
   ]
  },
  {
   "cell_type": "code",
   "execution_count": 13,
   "metadata": {},
   "outputs": [
    {
     "data": {
      "text/plain": [
       "array([[  3.    ,  21.075 ,   2.    ],\n",
       "       [  2.    ,  30.0708,  14.    ],\n",
       "       [  3.    ,  16.7   ,   4.    ],\n",
       "       [  3.    ,   7.8542,  14.    ],\n",
       "       [  3.    ,  29.125 ,   2.    ],\n",
       "       [  3.    ,   8.0292,  15.    ],\n",
       "       [  3.    ,  21.075 ,   8.    ],\n",
       "       [  3.    ,  11.2417,  14.    ],\n",
       "       [  2.    ,  41.5792,   3.    ],\n",
       "       [  3.    ,  21.6792,  16.    ],\n",
       "       [  3.    ,  39.6875,   7.    ],\n",
       "       [  2.    ,  27.75  ,   5.    ],\n",
       "       [  3.    ,  46.9   ,  11.    ],\n",
       "       [  3.    ,  27.9   ,   4.    ],\n",
       "       [  3.    ,  15.2458,   7.    ],\n",
       "       [  3.    ,   7.925 ,  17.    ],\n",
       "       [  3.    ,  46.9   ,  16.    ],\n",
       "       [  2.    ,  29.    ,   0.83  ],\n",
       "       [  2.    ,  10.5   ,  17.    ],\n",
       "       [  3.    ,  34.375 ,  16.    ],\n",
       "       [  3.    ,  14.4542,  14.5   ],\n",
       "       [  3.    ,  14.4583,  17.    ],\n",
       "       [  3.    ,  31.275 ,   2.    ],\n",
       "       [  3.    ,  11.2417,  12.    ],\n",
       "       [  3.    ,  22.3583,   2.    ],\n",
       "       [  3.    ,   9.2167,  16.    ],\n",
       "       [  3.    ,  34.375 ,   9.    ],\n",
       "       [  3.    ,   7.7333,  16.    ],\n",
       "       [  3.    ,  69.55  ,   5.    ],\n",
       "       [  3.    ,   8.6625,  17.    ],\n",
       "       [  3.    ,  39.6875,   1.    ],\n",
       "       [  3.    ,  20.525 ,   9.    ],\n",
       "       [  3.    ,  29.125 ,   4.    ],\n",
       "       [  3.    ,  11.1333,   1.    ],\n",
       "       [  3.    ,  25.4667,   5.    ],\n",
       "       [  3.    ,  69.55  ,   8.    ],\n",
       "       [  3.    ,  31.3875,   9.    ],\n",
       "       [  2.    ,  39.    ,   1.    ],\n",
       "       [  3.    ,  22.025 ,   4.    ],\n",
       "       [  2.    ,  26.    ,   3.    ],\n",
       "       [  3.    ,  69.55  ,  17.    ],\n",
       "       [  3.    ,  10.4625,   2.    ],\n",
       "       [  3.    ,   7.75  ,  16.    ],\n",
       "       [  3.    ,   8.05  ,  16.    ],\n",
       "       [  3.    ,  25.4667,  12.    ],\n",
       "       [  3.    ,  31.3875,   5.    ],\n",
       "       [  2.    ,  26.25  ,   8.    ],\n",
       "       [  3.    ,  31.3875,   3.    ],\n",
       "       [  3.    ,  39.6875,  16.    ],\n",
       "       [  3.    ,  29.125 ,   7.    ],\n",
       "       [  3.    ,   9.5   ,  16.    ],\n",
       "       [  1.    , 151.55  ,   2.    ],\n",
       "       [  1.    , 151.55  ,   0.92  ],\n",
       "       [  1.    , 108.9   ,  17.    ],\n",
       "       [  1.    ,  57.9792,  16.    ],\n",
       "       [  3.    ,  18.    ,  16.    ],\n",
       "       [  2.    ,  26.    ,   2.    ],\n",
       "       [  3.    ,  15.9   ,   3.    ],\n",
       "       [  3.    ,   7.2292,  15.    ],\n",
       "       [  3.    ,  21.075 ,   3.    ],\n",
       "       [  3.    ,  15.7417,   1.    ],\n",
       "       [  3.    ,  46.9   ,   1.    ],\n",
       "       [  2.    ,  12.    ,  17.    ],\n",
       "       [  2.    ,  18.75  ,   3.    ],\n",
       "       [  3.    ,  25.4667,   3.    ],\n",
       "       [  3.    ,  24.15  ,  10.    ],\n",
       "       [  3.    ,   7.125 ,  17.    ],\n",
       "       [  1.    , 120.    ,  14.    ],\n",
       "       [  1.    ,  81.8583,   4.    ],\n",
       "       [  2.    ,  19.5   ,  13.    ],\n",
       "       [  3.    ,  19.2583,   5.    ],\n",
       "       [  3.    ,   7.75  ,  17.    ],\n",
       "       [  3.    ,  19.2583,   0.75  ],\n",
       "       [  3.    ,  12.2875,   2.    ],\n",
       "       [  3.    ,  46.9   ,   9.    ],\n",
       "       [  3.    ,  25.4667,   8.    ],\n",
       "       [  3.    ,  15.9   ,   9.    ],\n",
       "       [  3.    ,   8.6625,  17.    ],\n",
       "       [  1.    ,  86.5   ,  16.    ],\n",
       "       [  2.    ,  26.    ,   2.    ],\n",
       "       [  3.    ,   7.2292,  17.    ],\n",
       "       [  3.    ,   7.2292,  17.    ],\n",
       "       [  2.    ,  26.25  ,   7.    ],\n",
       "       [  3.    ,  31.275 ,   9.    ],\n",
       "       [  3.    ,  31.275 ,  11.    ],\n",
       "       [  2.    ,  36.75  ,   8.    ],\n",
       "       [  1.    , 110.8833,  17.    ],\n",
       "       [  3.    ,   8.05  ,  16.    ],\n",
       "       [  3.    ,   8.7125,  16.    ],\n",
       "       [  2.    ,  39.    ,   4.    ],\n",
       "       [  3.    ,  27.9   ,   9.    ],\n",
       "       [  3.    ,  27.9   ,   2.    ],\n",
       "       [  3.    ,  19.2583,   0.75  ],\n",
       "       [  3.    ,   7.8292,  16.    ],\n",
       "       [  3.    ,  46.9   ,  14.    ],\n",
       "       [  3.    ,  39.6875,  14.    ],\n",
       "       [  1.    , 211.3375,  15.    ],\n",
       "       [  3.    ,  13.4167,   4.    ],\n",
       "       [  3.    ,  15.2458,   4.    ],\n",
       "       [  2.    ,  33.    ,   6.    ],\n",
       "       [  3.    ,   7.0542,  17.    ],\n",
       "       [  3.    ,  18.7875,  11.    ],\n",
       "       [  3.    ,  20.25  ,  16.    ],\n",
       "       [  2.    ,  23.    ,   4.    ],\n",
       "       [  3.    ,  12.475 ,   6.    ],\n",
       "       [  2.    ,  14.5   ,   0.67  ],\n",
       "       [  3.    ,   7.775 ,  16.    ],\n",
       "       [  3.    ,  12.475 ,   5.    ],\n",
       "       [  3.    ,   7.2292,  13.    ],\n",
       "       [  1.    ,  57.    ,  17.    ],\n",
       "       [  3.    ,  29.125 ,   8.    ],\n",
       "       [  3.    ,  20.575 ,   1.    ],\n",
       "       [  2.    ,  26.    ,  16.    ],\n",
       "       [  1.    , 120.    ,  11.    ],\n",
       "       [  3.    ,   8.5167,   0.42  ],\n",
       "       [  3.    ,  31.275 ,   6.    ],\n",
       "       [  3.    ,  27.9   ,  10.    ],\n",
       "       [  3.    ,  39.6875,   2.    ],\n",
       "       [  2.    ,  37.0042,   1.    ],\n",
       "       [  3.    ,  14.4542,  15.    ],\n",
       "       [  2.    ,  18.75  ,   0.83  ],\n",
       "       [  2.    ,  10.5   ,  16.    ],\n",
       "       [  3.    ,   8.6625,  17.    ],\n",
       "       [  3.    ,  31.275 ,   4.    ],\n",
       "       [  3.    ,  15.2458,   9.    ],\n",
       "       [  1.    ,  39.4   ,  16.    ],\n",
       "       [  3.    ,  69.55  ,  14.    ],\n",
       "       [  3.    ,  11.1333,   4.    ],\n",
       "       [  3.    ,   7.225 ,  15.    ],\n",
       "       [  3.    ,  23.45  ,   7.    ]])"
      ]
     },
     "execution_count": 13,
     "metadata": {},
     "output_type": "execute_result"
    }
   ],
   "source": [
    "arr[arr[:, 2] < 18] "
   ]
  },
  {
   "cell_type": "code",
   "execution_count": null,
   "metadata": {},
   "outputs": [],
   "source": [
    "\n",
    "Summing and Counting"
   ]
  },
  {
   "cell_type": "code",
   "execution_count": null,
   "metadata": {},
   "outputs": [],
   "source": [
    "#Let’s say we want to know how many of our passengers are children. "
   ]
  },
  {
   "cell_type": "code",
   "execution_count": 14,
   "metadata": {},
   "outputs": [],
   "source": [
    "arr = df[['Pclass', 'Fare', 'Age']].values\n",
    "mask = arr[:, 2] < 18"
   ]
  },
  {
   "cell_type": "code",
   "execution_count": 15,
   "metadata": {},
   "outputs": [
    {
     "name": "stdout",
     "output_type": "stream",
     "text": [
      "130\n"
     ]
    }
   ],
   "source": [
    "print(mask.sum()) "
   ]
  },
  {
   "cell_type": "code",
   "execution_count": 17,
   "metadata": {},
   "outputs": [
    {
     "name": "stdout",
     "output_type": "stream",
     "text": [
      "130\n"
     ]
    }
   ],
   "source": [
    "#we don’t need to define the mask variable.\n",
    "\n",
    "print((arr[:, 2] < 18).sum())"
   ]
  },
  {
   "cell_type": "code",
   "execution_count": null,
   "metadata": {},
   "outputs": [],
   "source": [
    "#Scatter Plot\n",
    "We use the scatter function to plot our data. The first argument of the scatter function is the x-axis (horizontal direction) and the second argument is the y-axis (vertical direction)."
   ]
  },
  {
   "cell_type": "code",
   "execution_count": 22,
   "metadata": {},
   "outputs": [
    {
     "data": {
      "text/plain": [
       "<matplotlib.collections.PathCollection at 0x7fa965b05940>"
      ]
     },
     "execution_count": 22,
     "metadata": {},
     "output_type": "execute_result"
    },
    {
     "data": {
      "image/png": "[encoded data removed]",
      "text/plain": [
       "<Figure size 432x288 with 1 Axes>"
      ]
     },
     "metadata": {
      "needs_background": "light"
     },
     "output_type": "display_data"
    }
   ],
   "source": [
    "import matplotlib.pyplot as plt\n",
    "plt.scatter(df['Age'], df['Fare'])\n",
    "plt.xlabel('Age')\n",
    "plt.ylabel('Fare')\n",
    "plt.scatter(df['Age'], df['Fare'], c=df['Pclass'])\n",
    "##We can also use our data to color code our scatter plot. This will give each of the 3 classes a different color. We add the c parameter and give it a Pandas series. In this case, our Pandas series has 3 possible values (1st, 2nd, and 3rd class), so we'll see our datapoints each get one of three colors."
   ]
  },
  {
   "cell_type": "code",
   "execution_count": null,
   "metadata": {},
   "outputs": [],
   "source": [
    "Line"
   ]
  },
  {
   "cell_type": "code",
   "execution_count": 24,
   "metadata": {},
   "outputs": [
    {
     "data": {
      "text/plain": [
       "[<matplotlib.lines.Line2D at 0x7fa965b562b0>]"
      ]
     },
     "execution_count": 24,
     "metadata": {},
     "output_type": "execute_result"
    },
    {
     "data": {
      "image/png": "[encoded data removed]",
      "text/plain": [
       "<Figure size 432x288 with 1 Axes>"
      ]
     },
     "metadata": {
      "needs_background": "light"
     },
     "output_type": "display_data"
    }
   ],
   "source": [
    "import matplotlib.pyplot as plt\n",
    "plt.scatter(df['Age'], df['Fare'])\n",
    "plt.xlabel('Age')\n",
    "plt.ylabel('Fare')\n",
    "plt.scatter(df['Age'], df['Fare'], c=df['Pclass'])\n",
    "plt.plot([0, 80], [85, 5])"
   ]
  },
  {
   "cell_type": "code",
   "execution_count": 25,
   "metadata": {},
   "outputs": [
    {
     "name": "stdout",
     "output_type": "stream",
     "text": [
      "https://sololearn.com/uploads/files/one.csv\n",
      "a\n",
      "[1 2]\n"
     ]
    }
   ],
   "source": [
    "\n",
    "import pandas as pd\n",
    "\n",
    "filename = input()\n",
    "column_name = input()\n",
    "\n",
    "df = pd.read_csv(filename)\n",
    "print(df[column_name].values)\n"
   ]
  },
  {
   "cell_type": "code",
   "execution_count": null,
   "metadata": {},
   "outputs": [],
   "source": []
  },
  {
   "cell_type": "code",
   "execution_count": null,
   "metadata": {},
   "outputs": [],
   "source": []
  }
 ],
 "metadata": {
  "kernelspec": {
   "display_name": "Python 3",
   "language": "python",
   "name": "python3"
  },
  "language_info": {
   "codemirror_mode": {
    "name": "ipython",
    "version": 3
   },
   "file_extension": ".py",
   "mimetype": "text/x-python",
   "name": "python",
   "nbconvert_exporter": "python",
   "pygments_lexer": "ipython3",
   "version": "3.8.5"
  }
 },
 "nbformat": 4,
 "nbformat_minor": 4
}
