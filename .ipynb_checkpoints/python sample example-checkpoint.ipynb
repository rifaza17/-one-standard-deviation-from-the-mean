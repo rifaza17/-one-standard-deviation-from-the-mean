{
 "cells": [
  {
   "cell_type": "code",
   "execution_count": null,
   "metadata": {},
   "outputs": [],
   "source": [
    "You are working with the COVID dataset for California, which includes the number of cases and deaths for each day of 2020.\n",
    "Find the day when the deaths/cases ratio was largest.\n",
    "\n",
    "To do this, you need to first calculate the deaths/cases ratio and add it as a column to the DataFrame with the name 'ratio', then find the row that corresponds to the largest value."
   ]
  },
  {
   "cell_type": "code",
   "execution_count": null,
   "metadata": {},
   "outputs": [],
   "source": [
    "import pandas as pd\n",
    "\n",
    "df = pd.read_csv(\"/usercode/files/ca-covid.csv\")\n",
    "\n",
    "df.drop('state', axis=1, inplace=True)\n",
    "df.set_index('date', inplace=True)\n",
    "df['ratio']=df['deaths']/df['cases']\n",
    "\n",
    "max=df['ratio'].max()\n",
    "df= df[(df['ratio']==max)]\n",
    "print(df)"
   ]
  },
  {
   "cell_type": "code",
   "execution_count": null,
   "metadata": {},
   "outputs": [],
   "source": [
    "You are making a program to analyze text.\n",
    "Take the text as the first input and a letter as the second input, and output the frequency of that letter in the text as a whole percentage."
   ]
  },
  {
   "cell_type": "code",
   "execution_count": 10,
   "metadata": {},
   "outputs": [
    {
     "name": "stdout",
     "output_type": "stream",
     "text": [
      "rifaza\n",
      "a\n",
      "33\n"
     ]
    }
   ],
   "source": [
    "#your code goes here\n",
    "inputtex =input()\n",
    "l = input()\n",
    "count= inputtex.count(l)\n",
    "\n",
    "per=(count/len(inputtex))*100\n",
    "print( int(per))"
   ]
  },
  {
   "cell_type": "code",
   "execution_count": null,
   "metadata": {},
   "outputs": [],
   "source": [
    "Given a sentence as input, calculate and output the average word length of that sentence.\n",
    "To calculate the average word length, you need to divide the sum of all word lengths by the number of words in the sentence.\n",
    "\n",
    "Sample Input:\n",
    "this is some text\n",
    "\n",
    "Sample Output:\n",
    "3.5\n",
    "\n",
    "Explanation: There are 4 words in the given input, with a total of 14 letters, so the average length will be: 14/4 = 3.5"
   ]
  },
  {
   "cell_type": "code",
   "execution_count": 9,
   "metadata": {},
   "outputs": [
    {
     "name": "stdout",
     "output_type": "stream",
     "text": [
      "this is some text for testing the example\n",
      "count 34\n",
      "4.25\n"
     ]
    }
   ],
   "source": [
    "\n",
    "text = input()\n",
    "text=text.split()\n",
    "size=len(text)\n",
    "count = 0;\n",
    "for x in text:\n",
    "    count += len(x);\n",
    "\n",
    "print('count' , count)\n",
    "\n",
    "print(count/size)"
   ]
  },
  {
   "cell_type": "code",
   "execution_count": null,
   "metadata": {},
   "outputs": [],
   "source": [
    "Ticket Office\n",
    "\n",
    "\n",
    "You are analyzing sales data from a ticket office.\n",
    "The ticket for an adult is $20, while the ticket for a child under 18 is $5.\n",
    "The data you are given is in a dictionary format, where the keys are the sold ticket numbers, and the values are the customer ages.\n",
    "For example, \"123-08\": 24 means that the ticket was bought a 24 year old.\n",
    "Your goal is to calculate how much more money the office would make if it would change the ticket discount age to the given input.\n",
    "So, your program needs to take an integer as input and output the percentage of revenue growth, if the discount was given to people under that age.\n",
    "\n",
    "For example, if the office made $15000 with the original discount age, and would make $18000 with 14 as the discount age, then the growth would be ((18000-15000)/15000)*100 = 20%\n",
    "\n",
    "So, for the input 14, your program should output 20. The output should be an integer (use int() to convert the result).\n"
   ]
  },
  {
   "cell_type": "code",
   "execution_count": 14,
   "metadata": {},
   "outputs": [
    {
     "name": "stdout",
     "output_type": "stream",
     "text": [
      "14\n",
      "16\n"
     ]
    }
   ],
   "source": [
    "data = {\n",
    "    \"100-90\": 25, \"42-01\": 48, \"55-09\": 12, \"128-64\": 71, \"002-22\": 18, \"321-54\": 19, \"097-32\": 33, \"065-135\": 64, \"99-043\": 80, \"111-99\": 11, \"123-019\": 5, \"109-890\": 72, \"132-123\": 27, \"32-908\": 27, \"008-09\": 25, \"055-967\": 35, \"897-99\": 44, \"890-98\": 56, \"344-32\": 65, \"43-955\": 59, \"001-233\": 9, \"089-111\": 15, \"090-090\": 17, \"56-777\": 23, \"44-909\": 27, \"13-111\": 21, \"87-432\": 15, \"87-433\": 14, \"87-434\": 23, \"87-435\": 11, \"87-436\": 12, \"87-437\": 16, \"94-121\": 15, \"94-122\": 35, \"80-089\": 10, \"87-456\": 8, \"87-430\": 40\n",
    "}\n",
    "age = int(input())\n",
    "#your code goes here\n",
    "def rev(a):\n",
    "    sal=0\n",
    "    for i in data.values():\n",
    "        if i<a:\n",
    "            sal = sal+5\n",
    "        else:\n",
    "            sal = sal+20\n",
    "    return sal\n",
    "curr_rev=rev(18)\n",
    "pred_rev=rev(age)\n",
    "growth=int((pred_rev - curr_rev )*100/ curr_rev )\n",
    "print(growth)\n",
    "\n",
    "\n",
    "\n"
   ]
  },
  {
   "cell_type": "code",
   "execution_count": null,
   "metadata": {},
   "outputs": [],
   "source": [
    "Balanced Parentheses\n",
    "\n",
    "\n",
    "Parentheses are balanced, if all opening parentheses have their corresponding closing parentheses.\n",
    "\n",
    "Given an expression as input, we need to find out whether the parentheses are balanced or not.\n",
    "For example, \"(x+y)*(z-2*(6))\" is balanced, while \"7-(3(2*9))4) (1\" is not balanced.\n",
    "\n",
    "The problem can be solved using a stack.\n",
    "Push each opening parenthesis to the stack and pop the last inserted opening parenthesis whenever a closing parenthesis is encountered.\n",
    "If the closing bracket does not correspond to the opening bracket, then stop and say that the brackets are not balanced.\n",
    "Also, after checking all the parentheses, we need to check the stack to be empty -- if it's not empty, then the parentheses are not balanced.\n",
    "\n",
    "Implement the balanced() function to return True if the parentheses in the given expression are balanced, and False if not.\n",
    "\n",
    "Sample Input:\n",
    "(a( ) eee) )\n",
    "\n",
    "Sample Output:\n",
    "False"
   ]
  },
  {
   "cell_type": "code",
   "execution_count": 10,
   "metadata": {},
   "outputs": [
    {
     "name": "stdout",
     "output_type": "stream",
     "text": [
      "(a( ) eee) )\n",
      "False\n"
     ]
    }
   ],
   "source": [
    "class stack:\n",
    "    def __init__(self):\n",
    "        self.items = []\n",
    "    def is_empty(self): # returns true if self.items is empty\n",
    "        return self.items == []\n",
    "    def push(self, item): # adds item to the stack\n",
    "        self.items.insert(0, item)\n",
    "    def pop(self): # removes item from the stack\n",
    "        return self.items.pop(0) \n",
    "    def __str__(self): # makes stack printable\n",
    "        return \"|%s|\" %(' | '.join([f'\"{item}\"' for item in self.items]))\n",
    "    def __call__(self): # makes stack callable as a function like a list\n",
    "        return self.items\n",
    "\n",
    "\n",
    "def balanced(expression): # balanced function\n",
    "    paren = stack() # initialize\n",
    "    for char in expression: # iterate through expression to filter out parentheses\n",
    "        if char == '(': \n",
    "            paren.push(char) # push opening parenthesis to stack\n",
    "        if char == ')': \n",
    "            if '(' in paren(): \n",
    "                paren.pop() # pop from stack if stack is not empty\n",
    "            else: \n",
    "                return False # return false if pop attempted on empty stack\n",
    "    if not paren():\n",
    "        return True # return true if stack is empty\n",
    "    return False # return false if an opening parenthesis is found\n",
    "    \n",
    "if __name__ == \"__main__\": # the main function\n",
    "    print(balanced(input()))"
   ]
  },
  {
   "cell_type": "code",
   "execution_count": null,
   "metadata": {},
   "outputs": [],
   "source": []
  }
 ],
 "metadata": {
  "kernelspec": {
   "display_name": "Python 3",
   "language": "python",
   "name": "python3"
  },
  "language_info": {
   "codemirror_mode": {
    "name": "ipython",
    "version": 3
   },
   "file_extension": ".py",
   "mimetype": "text/x-python",
   "name": "python",
   "nbconvert_exporter": "python",
   "pygments_lexer": "ipython3",
   "version": "3.8.5"
  }
 },
 "nbformat": 4,
 "nbformat_minor": 4
}
