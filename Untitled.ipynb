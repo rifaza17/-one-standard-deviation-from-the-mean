{
 "cells": [
  {
   "cell_type": "code",
   "execution_count": 2,
   "metadata": {},
   "outputs": [
    {
     "name": "stdout",
     "output_type": "stream",
     "text": [
      "None\n"
     ]
    }
   ],
   "source": [
    "def first_unique_product(products):\n",
    "    if (products.count(products[1])==1):\n",
    "        return products[1]\n",
    "    else:\n",
    "        return 'None'\n",
    "    pass\n",
    "\n",
    "if __name__ == \"__main__\":\n",
    "    print(first_unique_product([\"Apple\", \"Computer\",\"Computer\" \"Apple\", \"Bag\"])) #should print \"Computer\""
   ]
  },
  {
   "cell_type": "code",
   "execution_count": 4,
   "metadata": {},
   "outputs": [
    {
     "name": "stdout",
     "output_type": "stream",
     "text": [
      "Computer\n"
     ]
    }
   ],
   "source": [
    "def first_unique_product(products):\n",
    "    \n",
    "    for x in products:\n",
    "        \n",
    "        if (products.count(x)==1):\n",
    "            return x\n",
    "        \n",
    " \n",
    "    pass\n",
    "\n",
    "if __name__ == \"__main__\":\n",
    "    print(first_unique_product([\"Apple\", \"Computer\", \"Apple\", \"Bag\"])) #should print \"Computer\""
   ]
  },
  {
   "cell_type": "code",
   "execution_count": null,
   "metadata": {},
   "outputs": [],
   "source": []
  }
 ],
 "metadata": {
  "kernelspec": {
   "display_name": "Python 3",
   "language": "python",
   "name": "python3"
  },
  "language_info": {
   "codemirror_mode": {
    "name": "ipython",
    "version": 3
   },
   "file_extension": ".py",
   "mimetype": "text/x-python",
   "name": "python",
   "nbconvert_exporter": "python",
   "pygments_lexer": "ipython3",
   "version": "3.8.5"
  }
 },
 "nbformat": 4,
 "nbformat_minor": 4
}
